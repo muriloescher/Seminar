{
 "cells": [
  {
   "cell_type": "code",
   "execution_count": 74,
   "metadata": {},
   "outputs": [],
   "source": [
    "# Import necessary libraries\n",
    "import json\n",
    "import pydot\n",
    "\n",
    "# Load the graph (this takes time, so we do it once)\n",
    "def load_callgraph(dot_file):\n",
    "    print(\"Loading call graph...\")\n",
    "    graph = pydot.graph_from_dot_file(dot_file)[0]\n",
    "    print(f\"Graph loaded with {len(graph.get_nodes())} nodes and {len(graph.get_edges())} edges.\")\n",
    "    return graph\n",
    "\n",
    "# Load vulnerabilities from JSON\n",
    "def extract_vulnerable_function_names(json_file):\n",
    "    with open(json_file, 'r') as f:\n",
    "        vulnerabilities = json.load(f)\n",
    "    vulnerable_functions = {vuln[\"procedure\"] for vuln in vulnerabilities}\n",
    "    print(f\"Loaded {len(vulnerabilities)} vulnerabilities.\")\n",
    "    return vulnerable_functions\n",
    "\n",
    "def map_function_names_to_nodes(graph, function_names):\n",
    "    node_mapping = {func_name: [] for func_name in function_names}  # Map function to list of Node0x\n",
    "    for node in graph.get_nodes():\n",
    "        label = node.get_attributes().get('label', '')\n",
    "        for func_name in function_names:\n",
    "            func_parts = func_name.split(\"::\")\n",
    "            if all(part in label for part in func_parts):\n",
    "                node_mapping[func_name].append(node.get_name().strip('\"'))\n",
    "                break\n",
    "    print(f\"Mapped {len(node_mapping)} functions to graph nodes.\")\n",
    "    return node_mapping\n",
    "\n",
    "# Load manual mappings\n",
    "def load_mappings(json_file):\n",
    "    with open(json_file, 'r') as f:\n",
    "        mappings = json.load(f)\n",
    "    return mappings\n",
    "\n",
    "# Find related functions\n",
    "def find_related_functions(graph, manual_mappings, depth):\n",
    "    \"\"\"\n",
    "    Find related functions (callers and callees) for each manually mapped node\n",
    "    up to the specified depth, assuming one node per function name.\n",
    "    \"\"\"\n",
    "    related_functions = {}\n",
    "\n",
    "    for procedure, node in manual_mappings.items():\n",
    "        related_functions[procedure] = {\"callers\": set(), \"callees\": set()}\n",
    "        \n",
    "        queue = [(node, 0)]  # (current_node, current_depth)\n",
    "        visited = set()\n",
    "        visited.add(node)\n",
    "        \n",
    "        while queue:\n",
    "            current_node, current_depth = queue.pop(0)\n",
    "            \n",
    "            if current_depth >= depth:\n",
    "                continue\n",
    "            \n",
    "            for edge in graph.get_edges():\n",
    "                # Caller: current_node is destination\n",
    "                if edge.get_destination() == current_node:\n",
    "                    caller_node = edge.get_source().split(\":\")[0]\n",
    "                    if caller_node not in visited:\n",
    "                        related_functions[procedure][\"callers\"].add(caller_node)\n",
    "                        visited.add(caller_node)\n",
    "                        queue.append((caller_node, current_depth + 1))\n",
    "                \n",
    "                # Callee: current_node is source\n",
    "                elif edge.get_source().split(\":\")[0] == current_node:\n",
    "                    callee_node = edge.get_destination()\n",
    "                    if callee_node not in visited:\n",
    "                        related_functions[procedure][\"callees\"].add(callee_node)\n",
    "                        visited.add(callee_node)\n",
    "                        queue.append((callee_node, current_depth + 1))\n",
    "        \n",
    "        # Convert sets to lists for JSON serialization\n",
    "        related_functions[procedure][\"callers\"] = list(related_functions[procedure][\"callers\"])\n",
    "        related_functions[procedure][\"callees\"] = list(related_functions[procedure][\"callees\"])\n",
    "\n",
    "    return related_functions\n",
    "\n",
    "\n",
    "# Save node mappings for manual verification (sorted version)\n",
    "def save_sorted_node_mappings(node_mapping, output_file):\n",
    "    # Sort the node_mapping by function name (keys) and then sort the node lists\n",
    "    sorted_mapping = {\n",
    "        func: sorted(nodes) for func, nodes in sorted(node_mapping.items())\n",
    "    }\n",
    "    # Save the sorted mapping to a file\n",
    "    with open(output_file, 'w') as f:\n",
    "        json.dump(sorted_mapping, f, indent=4)\n",
    "    print(f\"Sorted node mappings saved to {output_file}\")\n",
    "\n",
    "def save_related_functions(related_functions, output_file):\n",
    "    # Save the related functions to a file\n",
    "    with open(output_file, 'w') as f:\n",
    "        json.dump(related_functions, f, indent=4)\n",
    "    print(f\"Functions saved to {output_file}\")\n",
    "\n",
    "# Explore graph interactively\n",
    "def explore_graph(graph, function_name):\n",
    "    \"\"\"Print some basic information about a specific function in the graph.\"\"\"\n",
    "    print(f\"Exploring function: {function_name}\")\n",
    "    callers = [\n",
    "        edge.get_source().strip('\"').split(\":\")[0] for edge in graph.get_edges()\n",
    "        if edge.get_destination().strip('\"') == function_name\n",
    "    ]\n",
    "    callees = [\n",
    "        edge.get_destination().strip('\"') for edge in graph.get_edges()\n",
    "        if edge.get_source().strip('\"').split(\":\")[0] == function_name\n",
    "    ]\n",
    "    print(f\"Callers: {callers}\")\n",
    "    print(f\"Callees: {callees}\")\n",
    "\n",
    "\n",
    "# File paths (update as necessary)\n",
    "dot_file = \"callgraph.dot\"\n",
    "vulnerabilities_file = \"report.json\"\n",
    "output_file = \"annotated_vulnerabilities.json\""
   ]
  },
  {
   "cell_type": "code",
   "execution_count": 6,
   "metadata": {},
   "outputs": [
    {
     "name": "stdout",
     "output_type": "stream",
     "text": [
      "Loading call graph...\n",
      "Graph loaded with 3196 nodes and 38449 edges.\n"
     ]
    }
   ],
   "source": [
    "# Start of the notebook workflow\n",
    "# Load the graph and vulnerabilities\n",
    "callgraph = load_callgraph(dot_file)"
   ]
  },
  {
   "cell_type": "code",
   "execution_count": 46,
   "metadata": {},
   "outputs": [
    {
     "name": "stdout",
     "output_type": "stream",
     "text": [
      "Loaded 51 vulnerabilities.\n"
     ]
    }
   ],
   "source": [
    "# Read vuln. function names\n",
    "vulnerabilities = extract_vulnerable_function_names(vulnerabilities_file)"
   ]
  },
  {
   "cell_type": "code",
   "execution_count": null,
   "metadata": {},
   "outputs": [
    {
     "name": "stdout",
     "output_type": "stream",
     "text": [
      "Mapped 31 functions to graph nodes.\n",
      "Sorted node mappings saved to mappings.json\n"
     ]
    }
   ],
   "source": [
    "# Map functions to nodes as in callgraph\n",
    "node_mapping = map_function_names_to_nodes(callgraph, vulnerabilities)\n",
    "save_sorted_node_mappings(node_mapping, \"mappings.json\")"
   ]
  },
  {
   "cell_type": "code",
   "execution_count": 76,
   "metadata": {},
   "outputs": [
    {
     "name": "stdout",
     "output_type": "stream",
     "text": [
      "Exploring function: Node0x55eb7455a290\n",
      "Callers: []\n",
      "Callees: ['Node0x55eb74646980', 'Node0x55eb74646840', 'Node0x55eb7453adc0', 'Node0x55eb7453adc0', 'Node0x55eb746460c0', 'Node0x55eb746460c0', 'Node0x55eb74646ac0', 'Node0x55eb746460c0', 'Node0x55eb7464b980', 'Node0x55eb7453aed0', 'Node0x55eb74648f00', 'Node0x55eb74646ac0', 'Node0x55eb7453adc0', 'Node0x55eb746460c0', 'Node0x55eb746465c0', 'Node0x55eb74647d80', 'Node0x55eb7454d840', 'Node0x55eb7464b840', 'Node0x55eb7454dac0', 'Node0x55eb7454dc00', 'Node0x55eb746460c0', 'Node0x55eb746460c0', 'Node0x55eb74646840', 'Node0x55eb74647ec0', 'Node0x55eb7453adc0', 'Node0x55eb74645e40', 'Node0x55eb74646c00', 'Node0x55eb7454d980', 'Node0x55eb7453aed0', 'Node0x55eb74645bc0', 'Node0x55eb746460c0', 'Node0x55eb7453adc0', 'Node0x55eb7453adc0', 'Node0x55eb74648f00', 'Node0x55eb7464b700']\n"
     ]
    }
   ],
   "source": [
    "explore_graph(callgraph, \"Node0x55eb7455a290\")"
   ]
  },
  {
   "cell_type": "code",
   "execution_count": 78,
   "metadata": {},
   "outputs": [
    {
     "data": {
      "text/plain": [
       "{'light_create_default_file_info': 'Node0x55eb7464b700',\n",
       " 'light_create_file_info': 'Node0x55eb7464cd80',\n",
       " 'light_pcapng_open_read': 'Node0x55eb74649cc0',\n",
       " 'light_pcapng_open_write': 'Node0x55eb7464b840',\n",
       " 'pcpp::IDnsResource::decodeName': 'Node0x55eb745b1450',\n",
       " 'pcpp::IDnsResource::encodeName': 'Node0x55eb745b0e10',\n",
       " 'pcpp::IPFilter::convertToIPAddressWithLen': 'Node0x55eb74562130',\n",
       " 'pcpp::IPv4Layer::parseNextLayer': 'Node0x55eb7456b270',\n",
       " 'pcpp::IPv6Layer::parseExtensions': 'Node0x55eb745740f0'}"
      ]
     },
     "execution_count": 78,
     "metadata": {},
     "output_type": "execute_result"
    }
   ],
   "source": [
    "mappings = load_mappings(\"manual_mappings.json\")\n",
    "mappings"
   ]
  },
  {
   "cell_type": "code",
   "execution_count": 83,
   "metadata": {},
   "outputs": [
    {
     "data": {
      "text/plain": [
       "60"
      ]
     },
     "execution_count": 83,
     "metadata": {},
     "output_type": "execute_result"
    }
   ],
   "source": [
    "related_functions = find_related_functions(callgraph, mappings, 1)\n",
    "len(related_functions['pcpp::IPv4Layer::parseNextLayer']['callees'])"
   ]
  },
  {
   "cell_type": "code",
   "execution_count": null,
   "metadata": {},
   "outputs": [],
   "source": [
    "save_related_functions(related_functions, \"function_relations.json\")"
   ]
  }
 ],
 "metadata": {
  "kernelspec": {
   "display_name": "venv",
   "language": "python",
   "name": "python3"
  },
  "language_info": {
   "codemirror_mode": {
    "name": "ipython",
    "version": 3
   },
   "file_extension": ".py",
   "mimetype": "text/x-python",
   "name": "python",
   "nbconvert_exporter": "python",
   "pygments_lexer": "ipython3",
   "version": "3.12.3"
  }
 },
 "nbformat": 4,
 "nbformat_minor": 2
}
